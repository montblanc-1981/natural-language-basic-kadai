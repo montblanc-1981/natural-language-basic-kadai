{
  "nbformat": 4,
  "nbformat_minor": 0,
  "metadata": {
    "colab": {
      "provenance": [],
      "authorship_tag": "ABX9TyNWaJ48qnCm0nbBoSiYKH8j",
      "include_colab_link": true
    },
    "kernelspec": {
      "name": "python3",
      "display_name": "Python 3"
    },
    "language_info": {
      "name": "python"
    }
  },
  "cells": [
    {
      "cell_type": "markdown",
      "metadata": {
        "id": "view-in-github",
        "colab_type": "text"
      },
      "source": [
        "<a href=\"https://colab.research.google.com/github/montblanc-1981/natural-language-basic-kadai/blob/main/kadai_20240110.ipynb\" target=\"_parent\"><img src=\"https://colab.research.google.com/assets/colab-badge.svg\" alt=\"Open In Colab\"/></a>"
      ]
    },
    {
      "cell_type": "code",
      "execution_count": 32,
      "metadata": {
        "id": "tIMigOFCOeUj"
      },
      "outputs": [],
      "source": [
        "import re"
      ]
    },
    {
      "cell_type": "code",
      "source": [
        "pip install bs4"
      ],
      "metadata": {
        "colab": {
          "base_uri": "https://localhost:8080/"
        },
        "id": "9CbBBCs6OjEX",
        "outputId": "3c06af5b-21e0-4184-a8a9-9afbac979fe2"
      },
      "execution_count": 33,
      "outputs": [
        {
          "output_type": "stream",
          "name": "stdout",
          "text": [
            "Requirement already satisfied: bs4 in /usr/local/lib/python3.10/dist-packages (0.0.1)\n",
            "Requirement already satisfied: beautifulsoup4 in /usr/local/lib/python3.10/dist-packages (from bs4) (4.11.2)\n",
            "Requirement already satisfied: soupsieve>1.2 in /usr/local/lib/python3.10/dist-packages (from beautifulsoup4->bs4) (2.5)\n"
          ]
        }
      ]
    },
    {
      "cell_type": "code",
      "source": [
        "from bs4 import BeautifulSoup\n",
        "from urllib import request\n",
        "\n",
        "url = 'https://ja.wikipedia.org/wiki/%E8%87%AA%E7%84%B6%E8%A8%80%E8%AA%9E%E5%87%A6%E7%90%86'\n",
        "response = request.urlopen(url)\n",
        "soup = BeautifulSoup(response)\n",
        "response.close()\n",
        "\n",
        "main_text = soup.find_all('p', limit=2)\n",
        "print(main_text)\n",
        "\n",
        "\n"
      ],
      "metadata": {
        "colab": {
          "base_uri": "https://localhost:8080/"
        },
        "id": "6TmZsYikOp9F",
        "outputId": "636b4350-4078-4c36-edb4-55a31a5df9e4"
      },
      "execution_count": 37,
      "outputs": [
        {
          "output_type": "stream",
          "name": "stdout",
          "text": [
            "[<p><b>自然言語処理</b>（しぜんげんごしょり、<a href=\"/wiki/%E8%8B%B1%E8%AA%9E\" title=\"英語\">英語</a>: <span lang=\"en\">natural language processing</span>、略称：NLP）は、人間が日常的に使っている<a href=\"/wiki/%E8%87%AA%E7%84%B6%E8%A8%80%E8%AA%9E\" title=\"自然言語\">自然言語</a>を<a href=\"/wiki/%E3%82%B3%E3%83%B3%E3%83%94%E3%83%A5%E3%83%BC%E3%82%BF\" title=\"コンピュータ\">コンピュータ</a>に処理させる一連の技術であり、<a href=\"/wiki/%E4%BA%BA%E5%B7%A5%E7%9F%A5%E8%83%BD\" title=\"人工知能\">人工知能</a>と<a href=\"/wiki/%E8%A8%80%E8%AA%9E%E5%AD%A6\" title=\"言語学\">言語学</a>の一分野である。「<a href=\"/wiki/%E8%A8%88%E7%AE%97%E8%A8%80%E8%AA%9E%E5%AD%A6\" title=\"計算言語学\">計算言語学</a>」（<span lang=\"en\">computational linguistics</span>）との類似もあるが、自然言語処理は<a href=\"/wiki/%E5%B7%A5%E5%AD%A6\" title=\"工学\">工学</a>的な視点からの言語処理をさすのに対して、<a href=\"/wiki/%E8%A8%88%E7%AE%97%E8%A8%80%E8%AA%9E%E5%AD%A6\" title=\"計算言語学\">計算言語学</a>は<a href=\"/wiki/%E8%A8%80%E8%AA%9E%E5%AD%A6\" title=\"言語学\">言語学</a>的視点を重視する手法をさす事が多い<sup class=\"reference\" id=\"cite_ref-1\"><a href=\"#cite_note-1\">[1]</a></sup>。<a href=\"/wiki/%E3%83%87%E3%83%BC%E3%82%BF%E3%83%99%E3%83%BC%E3%82%B9\" title=\"データベース\">データベース</a>内の情報を自然言語に変換したり、自然言語の<a href=\"/wiki/%E6%96%87%E7%AB%A0\" title=\"文章\">文章</a>をより形式的な（コンピュータが理解しやすい）表現に変換するといった処理が含まれる。応用例としては<a href=\"/wiki/%E6%A9%9F%E6%A2%B0%E7%BF%BB%E8%A8%B3\" title=\"機械翻訳\">機械翻訳</a>や<a class=\"mw-redirect\" href=\"/wiki/%E4%BB%AE%E5%90%8D%E6%BC%A2%E5%AD%97%E5%A4%89%E6%8F%9B\" title=\"仮名漢字変換\">仮名漢字変換</a>が挙げられる。\n",
            "</p>, <p>自然言語の理解をコンピュータにさせることは、<a href=\"/wiki/%E8%87%AA%E7%84%B6%E8%A8%80%E8%AA%9E%E7%90%86%E8%A7%A3\" title=\"自然言語理解\">自然言語理解</a>とされている。自然言語理解と、自然言語処理の差は、意味を扱うか、扱わないかという説もあったが、最近は数理的な言語解析手法（統計や確率など）が広められた為、<a href=\"/wiki/%E6%A7%8B%E6%96%87%E8%A7%A3%E6%9E%90%E5%99%A8\" title=\"構文解析器\">パーサ</a>（統語解析器）などの精度や速度が一段と上がり、その意味合いは違ってきている。もともと自然言語の<a href=\"/wiki/%E6%84%8F%E5%91%B3%E8%AB%96_(%E8%A8%80%E8%AA%9E%E5%AD%A6)\" title=\"意味論 (言語学)\">意味論</a>的側面を全く無視して達成できることは非常に限られている。このため、自然言語処理には<a href=\"/wiki/%E5%BD%A2%E6%85%8B%E7%B4%A0%E8%A7%A3%E6%9E%90\" title=\"形態素解析\">形態素解析</a>と<a href=\"/wiki/%E6%A7%8B%E6%96%87%E8%A7%A3%E6%9E%90\" title=\"構文解析\">構文解析</a>、文脈解析、意味解析などを<span lang=\"en\">Syntax</span>など表層的な観点から解析をする学問であるが、自然言語理解は、意味をどのように理解するかという個々人の理解と推論部分が主な研究の課題になってきており、両者の境界は意思や意図が含まれるかどうかになってきている。\n",
            "</p>]\n"
          ]
        }
      ]
    },
    {
      "cell_type": "code",
      "source": [
        "main_text = [t.get_text() for t in main_text]\n",
        "print(main_text)\n"
      ],
      "metadata": {
        "colab": {
          "base_uri": "https://localhost:8080/"
        },
        "id": "riX04OGycVrF",
        "outputId": "db924465-d9bf-45cd-b91f-f681ae2b7b5f"
      },
      "execution_count": 40,
      "outputs": [
        {
          "output_type": "stream",
          "name": "stdout",
          "text": [
            "['自然言語処理（しぜんげんごしょり、英語: natural language processing、略称：NLP）は、人間が日常的に使っている自然言語をコンピュータに処理させる一連の技術であり、人工知能と言語学の一分野である。「計算言語学」（computational linguistics）との類似もあるが、自然言語処理は工学的な視点からの言語処理をさすのに対して、計算言語学は言語学的視点を重視する手法をさす事が多い[1]。データベース内の情報を自然言語に変換したり、自然言語の文章をより形式的な（コンピュータが理解しやすい）表現に変換するといった処理が含まれる。応用例としては機械翻訳や仮名漢字変換が挙げられる。\\n', '自然言語の理解をコンピュータにさせることは、自然言語理解とされている。自然言語理解と、自然言語処理の差は、意味を扱うか、扱わないかという説もあったが、最近は数理的な言語解析手法（統計や確率など）が広められた為、パーサ（統語解析器）などの精度や速度が一段と上がり、その意味合いは違ってきている。もともと自然言語の意味論的側面を全く無視して達成できることは非常に限られている。このため、自然言語処理には形態素解析と構文解析、文脈解析、意味解析などをSyntaxなど表層的な観点から解析をする学問であるが、自然言語理解は、意味をどのように理解するかという個々人の理解と推論部分が主な研究の課題になってきており、両者の境界は意思や意図が含まれるかどうかになってきている。\\n']\n"
          ]
        }
      ]
    }
  ]
}